{
 "cells": [
  {
   "cell_type": "code",
   "execution_count": 1,
   "id": "202e10a8",
   "metadata": {
    "execution": {
     "iopub.execute_input": "2021-11-04T20:58:29.789575Z",
     "iopub.status.busy": "2021-11-04T20:58:29.786469Z",
     "iopub.status.idle": "2021-11-04T20:58:34.987740Z",
     "shell.execute_reply": "2021-11-04T20:58:34.987088Z",
     "shell.execute_reply.started": "2021-10-20T20:24:12.910859Z"
    },
    "papermill": {
     "duration": 5.222023,
     "end_time": "2021-11-04T20:58:34.987914",
     "exception": false,
     "start_time": "2021-11-04T20:58:29.765891",
     "status": "completed"
    },
    "tags": []
   },
   "outputs": [],
   "source": [
    "import math\n",
    "import os\n",
    "\n",
    "import cv2\n",
    "import numpy as np\n",
    "import tensorflow as tf\n",
    "from keras.callbacks import EarlyStopping\n",
    "from tensorflow import keras\n",
    "from tensorflow.keras.layers import (AveragePooling2D, BatchNormalization,\n",
    "                                     Concatenate, Conv2D, Dense, Dropout,\n",
    "                                     Flatten, GlobalAveragePooling2D, Input,\n",
    "                                     MaxPooling2D)\n",
    "from tensorflow.keras.models import Model, Sequential\n",
    "from tensorflow.keras.preprocessing.image import (ImageDataGenerator,\n",
    "                                                  img_to_array, load_img)\n",
    "from tensorflow.keras.utils import Sequence, to_categorical\n",
    "from tqdm import tqdm"
   ]
  },
  {
   "cell_type": "code",
   "execution_count": 2,
   "id": "fd12c711",
   "metadata": {
    "execution": {
     "iopub.execute_input": "2021-11-04T20:58:35.013684Z",
     "iopub.status.busy": "2021-11-04T20:58:35.012765Z",
     "iopub.status.idle": "2021-11-04T20:58:35.014702Z",
     "shell.execute_reply": "2021-11-04T20:58:35.015180Z",
     "shell.execute_reply.started": "2021-10-20T20:24:20.465663Z"
    },
    "papermill": {
     "duration": 0.01731,
     "end_time": "2021-11-04T20:58:35.015317",
     "exception": false,
     "start_time": "2021-11-04T20:58:34.998007",
     "status": "completed"
    },
    "tags": []
   },
   "outputs": [],
   "source": [
    "TRAIN_DIR = \"../input/petfinder-pawpularity-score/train\"\n",
    "TEST_DIR = \"../input/petfinder-pawpularity-score/test\"\n",
    "IMG_WIDTH = 456\n",
    "IMG_HEIGHT = 456\n",
    "CHANNELS = 3\n",
    "BATCH_SIZE = 32\n",
    "DENSE_FEATURES = [\n",
    "    'Subject Focus',\n",
    "    'Eyes',\n",
    "    'Face',\n",
    "    'Near',\n",
    "    'Action',\n",
    "    'Accessory',\n",
    "    'Group',\n",
    "    'Collage',\n",
    "    'Human',\n",
    "    'Occlusion',\n",
    "    'Info',\n",
    "    'Blur',\n",
    "]\n",
    "INCLUDE_DENSE_FEATURES = True\n",
    "PATIENCE = 3"
   ]
  },
  {
   "cell_type": "code",
   "execution_count": 3,
   "id": "936914cf",
   "metadata": {
    "execution": {
     "iopub.execute_input": "2021-11-04T20:58:35.037952Z",
     "iopub.status.busy": "2021-11-04T20:58:35.036427Z",
     "iopub.status.idle": "2021-11-04T20:58:35.095292Z",
     "shell.execute_reply": "2021-11-04T20:58:35.095794Z",
     "shell.execute_reply.started": "2021-10-20T20:24:23.12355Z"
    },
    "papermill": {
     "duration": 0.071551,
     "end_time": "2021-11-04T20:58:35.095945",
     "exception": false,
     "start_time": "2021-11-04T20:58:35.024394",
     "status": "completed"
    },
    "tags": []
   },
   "outputs": [
    {
     "data": {
      "text/html": [
       "<div>\n",
       "<style scoped>\n",
       "    .dataframe tbody tr th:only-of-type {\n",
       "        vertical-align: middle;\n",
       "    }\n",
       "\n",
       "    .dataframe tbody tr th {\n",
       "        vertical-align: top;\n",
       "    }\n",
       "\n",
       "    .dataframe thead th {\n",
       "        text-align: right;\n",
       "    }\n",
       "</style>\n",
       "<table border=\"1\" class=\"dataframe\">\n",
       "  <thead>\n",
       "    <tr style=\"text-align: right;\">\n",
       "      <th></th>\n",
       "      <th>Id</th>\n",
       "      <th>Subject Focus</th>\n",
       "      <th>Eyes</th>\n",
       "      <th>Face</th>\n",
       "      <th>Near</th>\n",
       "      <th>Action</th>\n",
       "      <th>Accessory</th>\n",
       "      <th>Group</th>\n",
       "      <th>Collage</th>\n",
       "      <th>Human</th>\n",
       "      <th>Occlusion</th>\n",
       "      <th>Info</th>\n",
       "      <th>Blur</th>\n",
       "      <th>Pawpularity</th>\n",
       "    </tr>\n",
       "  </thead>\n",
       "  <tbody>\n",
       "    <tr>\n",
       "      <th>0</th>\n",
       "      <td>0007de18844b0dbbb5e1f607da0606e0</td>\n",
       "      <td>0</td>\n",
       "      <td>1</td>\n",
       "      <td>1</td>\n",
       "      <td>1</td>\n",
       "      <td>0</td>\n",
       "      <td>0</td>\n",
       "      <td>1</td>\n",
       "      <td>0</td>\n",
       "      <td>0</td>\n",
       "      <td>0</td>\n",
       "      <td>0</td>\n",
       "      <td>0</td>\n",
       "      <td>63</td>\n",
       "    </tr>\n",
       "    <tr>\n",
       "      <th>1</th>\n",
       "      <td>0009c66b9439883ba2750fb825e1d7db</td>\n",
       "      <td>0</td>\n",
       "      <td>1</td>\n",
       "      <td>1</td>\n",
       "      <td>0</td>\n",
       "      <td>0</td>\n",
       "      <td>0</td>\n",
       "      <td>0</td>\n",
       "      <td>0</td>\n",
       "      <td>0</td>\n",
       "      <td>0</td>\n",
       "      <td>0</td>\n",
       "      <td>0</td>\n",
       "      <td>42</td>\n",
       "    </tr>\n",
       "    <tr>\n",
       "      <th>2</th>\n",
       "      <td>0013fd999caf9a3efe1352ca1b0d937e</td>\n",
       "      <td>0</td>\n",
       "      <td>1</td>\n",
       "      <td>1</td>\n",
       "      <td>1</td>\n",
       "      <td>0</td>\n",
       "      <td>0</td>\n",
       "      <td>0</td>\n",
       "      <td>0</td>\n",
       "      <td>1</td>\n",
       "      <td>1</td>\n",
       "      <td>0</td>\n",
       "      <td>0</td>\n",
       "      <td>28</td>\n",
       "    </tr>\n",
       "    <tr>\n",
       "      <th>3</th>\n",
       "      <td>0018df346ac9c1d8413cfcc888ca8246</td>\n",
       "      <td>0</td>\n",
       "      <td>1</td>\n",
       "      <td>1</td>\n",
       "      <td>1</td>\n",
       "      <td>0</td>\n",
       "      <td>0</td>\n",
       "      <td>0</td>\n",
       "      <td>0</td>\n",
       "      <td>0</td>\n",
       "      <td>0</td>\n",
       "      <td>0</td>\n",
       "      <td>0</td>\n",
       "      <td>15</td>\n",
       "    </tr>\n",
       "    <tr>\n",
       "      <th>4</th>\n",
       "      <td>001dc955e10590d3ca4673f034feeef2</td>\n",
       "      <td>0</td>\n",
       "      <td>0</td>\n",
       "      <td>0</td>\n",
       "      <td>1</td>\n",
       "      <td>0</td>\n",
       "      <td>0</td>\n",
       "      <td>1</td>\n",
       "      <td>0</td>\n",
       "      <td>0</td>\n",
       "      <td>0</td>\n",
       "      <td>0</td>\n",
       "      <td>0</td>\n",
       "      <td>72</td>\n",
       "    </tr>\n",
       "  </tbody>\n",
       "</table>\n",
       "</div>"
      ],
      "text/plain": [
       "                                 Id  Subject Focus  Eyes  Face  Near  Action  \\\n",
       "0  0007de18844b0dbbb5e1f607da0606e0              0     1     1     1       0   \n",
       "1  0009c66b9439883ba2750fb825e1d7db              0     1     1     0       0   \n",
       "2  0013fd999caf9a3efe1352ca1b0d937e              0     1     1     1       0   \n",
       "3  0018df346ac9c1d8413cfcc888ca8246              0     1     1     1       0   \n",
       "4  001dc955e10590d3ca4673f034feeef2              0     0     0     1       0   \n",
       "\n",
       "   Accessory  Group  Collage  Human  Occlusion  Info  Blur  Pawpularity  \n",
       "0          0      1        0      0          0     0     0           63  \n",
       "1          0      0        0      0          0     0     0           42  \n",
       "2          0      0        0      1          1     0     0           28  \n",
       "3          0      0        0      0          0     0     0           15  \n",
       "4          0      1        0      0          0     0     0           72  "
      ]
     },
     "execution_count": 3,
     "metadata": {},
     "output_type": "execute_result"
    }
   ],
   "source": [
    "import pandas as pd\n",
    "\n",
    "df_train = pd.read_csv(\"../input/petfinder-pawpularity-score/train.csv\")\n",
    "df_test = pd.read_csv(\"../input/petfinder-pawpularity-score/test.csv\")\n",
    "df_train.head()"
   ]
  },
  {
   "cell_type": "code",
   "execution_count": 4,
   "id": "0d879312",
   "metadata": {
    "execution": {
     "iopub.execute_input": "2021-11-04T20:58:35.121785Z",
     "iopub.status.busy": "2021-11-04T20:58:35.121146Z",
     "iopub.status.idle": "2021-11-04T21:00:54.786504Z",
     "shell.execute_reply": "2021-11-04T21:00:54.786983Z"
    },
    "papermill": {
     "duration": 139.681244,
     "end_time": "2021-11-04T21:00:54.787165",
     "exception": false,
     "start_time": "2021-11-04T20:58:35.105921",
     "status": "completed"
    },
    "tags": []
   },
   "outputs": [
    {
     "name": "stderr",
     "output_type": "stream",
     "text": [
      "100%|██████████| 9912/9912 [02:19<00:00, 71.31it/s]\n",
      "/opt/conda/lib/python3.7/site-packages/ipykernel_launcher.py:17: UserWarning: To output multiple subplots, the figure containing the passed axes is being cleared\n"
     ]
    },
    {
     "data": {
      "text/plain": [
       "array([[<AxesSubplot:title={'center':'height'}>,\n",
       "        <AxesSubplot:title={'center':'width'}>]], dtype=object)"
      ]
     },
     "execution_count": 4,
     "metadata": {},
     "output_type": "execute_result"
    },
    {
     "data": {
      "image/png": "[encoded data removed]",
      "text/plain": [
       "<Figure size 720x720 with 2 Axes>"
      ]
     },
     "metadata": {
      "needs_background": "light"
     },
     "output_type": "display_data"
    }
   ],
   "source": [
    "import matplotlib.pyplot as plt\n",
    "\n",
    "def get_image_size_distribution():\n",
    "    data = {\"height\": [], \"width\": []}\n",
    "    for file in tqdm(os.listdir(TRAIN_DIR)):\n",
    "        path = TRAIN_DIR + \"/\" + file\n",
    "        image = cv2.imread(path)\n",
    "        height, width, channels = image.shape\n",
    "        data[\"height\"].append(height)\n",
    "        data[\"width\"].append(width)\n",
    "    return data\n",
    "\n",
    "sizes = get_image_size_distribution()\n",
    "df_distrib = pd.DataFrame(sizes)\n",
    "fig = plt.figure(figsize=(10,10))\n",
    "ax = fig.gca()\n",
    "df_distrib.hist(ax=ax)"
   ]
  },
  {
   "cell_type": "code",
   "execution_count": 5,
   "id": "71ddfaa5",
   "metadata": {
    "execution": {
     "iopub.execute_input": "2021-11-04T21:00:55.718449Z",
     "iopub.status.busy": "2021-11-04T21:00:55.717491Z",
     "iopub.status.idle": "2021-11-04T21:00:55.720426Z",
     "shell.execute_reply": "2021-11-04T21:00:55.720862Z",
     "shell.execute_reply.started": "2021-10-20T20:24:40.83054Z"
    },
    "papermill": {
     "duration": 0.392708,
     "end_time": "2021-11-04T21:00:55.721012",
     "exception": false,
     "start_time": "2021-11-04T21:00:55.328304",
     "status": "completed"
    },
    "tags": []
   },
   "outputs": [],
   "source": [
    "import math\n",
    "from random import shuffle\n",
    "import numpy as np\n",
    "\n",
    "class PawpularDataset(Sequence):\n",
    "    def __init__(self, df, subset, shuffle):\n",
    "        self.subset = subset\n",
    "        if subset in [\"train\", \"validation\"]:\n",
    "            self.y = df.Pawpularity.tolist()\n",
    "        elif subset == \"test\":\n",
    "            self.y = []\n",
    "        self.df = df\n",
    "        self.ids = df.Id.tolist()\n",
    "        self.batch_size = BATCH_SIZE\n",
    "        self.shuffle = shuffle\n",
    "        self.on_epoch_end()\n",
    "        \n",
    "    def __len__(self):\n",
    "        return math.ceil(len(self.ids)/self.batch_size)\n",
    "\n",
    "    def shuffle_samples(self):\n",
    "        samples = list(zip(self.ids, self.y))\n",
    "        shuffle(samples)\n",
    "        self.ids, self.y = zip(*samples)\n",
    "    \n",
    "    def __getitem__(self, index):\n",
    "        X = self.ids[index * self.batch_size: (index + 1) * self.batch_size]\n",
    "        y = self.y[index * self.batch_size: (index + 1) * self.batch_size]\n",
    "\n",
    "        return self.process_x_and_y(X, y)\n",
    "    \n",
    "    def load_image(self, path):\n",
    "        return img_to_array(load_img(path, target_size=(IMG_HEIGHT, IMG_WIDTH)))\n",
    "    \n",
    "    def load_images(self, ids):\n",
    "        if self.subset in [\"train\", \"validation\"]:\n",
    "            paths = [f\"{TRAIN_DIR}/{id_}.jpg\" for id_ in ids]\n",
    "        elif self.subset == \"test\":\n",
    "            paths = [f\"{TEST_DIR}/{id_}.jpg\" for id_ in ids]\n",
    "            \n",
    "        return np.asarray([self.load_image(path) for path in paths])\n",
    "                    \n",
    "    def load_dense_features(self, ids):\n",
    "        features = self.df[self.df.Id.isin(ids)]\n",
    "        features = features[DENSE_FEATURES]\n",
    "        \n",
    "        return np.array(features.values).astype(\"float32\")\n",
    "    \n",
    "    def process_x_and_y(self, X, y):\n",
    "        images = self.load_images(X)\n",
    "        if INCLUDE_DENSE_FEATURES:\n",
    "            dense_features = self.load_dense_features(X)\n",
    "            X = [images, dense_features]\n",
    "        else:\n",
    "            X = images\n",
    "        if self.subset in [\"train\", \"validation\"]:\n",
    "            y = tf.convert_to_tensor(y)\n",
    "            return X, y\n",
    "        elif self.subset == \"test\":\n",
    "            return (X,)\n",
    "            \n",
    "    def on_epoch_end(self):\n",
    "        if self.shuffle and self.subset == \"train\":\n",
    "            self.shuffle_samples()"
   ]
  },
  {
   "cell_type": "code",
   "execution_count": 6,
   "id": "07be4430",
   "metadata": {
    "execution": {
     "iopub.execute_input": "2021-11-04T21:00:56.374673Z",
     "iopub.status.busy": "2021-11-04T21:00:56.373875Z",
     "iopub.status.idle": "2021-11-04T21:00:57.102253Z",
     "shell.execute_reply": "2021-11-04T21:00:57.101745Z",
     "shell.execute_reply.started": "2021-10-20T20:24:43.085602Z"
    },
    "papermill": {
     "duration": 1.05394,
     "end_time": "2021-11-04T21:00:57.102387",
     "exception": false,
     "start_time": "2021-11-04T21:00:56.048447",
     "status": "completed"
    },
    "tags": []
   },
   "outputs": [],
   "source": [
    "from sklearn.model_selection import train_test_split\n",
    "\n",
    "train, validation = train_test_split(df_train, test_size=0.15)\n",
    "\n",
    "train = PawpularDataset(shuffle=True, df=train, subset=\"train\")\n",
    "validation = PawpularDataset(shuffle=False, df=validation, subset=\"validation\")\n",
    "test = PawpularDataset(shuffle=False, df=df_test, subset=\"test\")"
   ]
  },
  {
   "cell_type": "code",
   "execution_count": 7,
   "id": "ff591b30",
   "metadata": {
    "execution": {
     "iopub.execute_input": "2021-11-04T21:00:57.759746Z",
     "iopub.status.busy": "2021-11-04T21:00:57.759120Z",
     "iopub.status.idle": "2021-11-04T21:01:06.585884Z",
     "shell.execute_reply": "2021-11-04T21:01:06.586675Z",
     "shell.execute_reply.started": "2021-10-20T20:24:45.222249Z"
    },
    "papermill": {
     "duration": 9.160391,
     "end_time": "2021-11-04T21:01:06.586857",
     "exception": false,
     "start_time": "2021-11-04T21:00:57.426466",
     "status": "completed"
    },
    "tags": []
   },
   "outputs": [
    {
     "name": "stderr",
     "output_type": "stream",
     "text": [
      "2021-11-04 21:00:57.858707: I tensorflow/stream_executor/cuda/cuda_gpu_executor.cc:937] successful NUMA node read from SysFS had negative value (-1), but there must be at least one NUMA node, so returning NUMA node zero\n",
      "2021-11-04 21:00:57.958940: I tensorflow/stream_executor/cuda/cuda_gpu_executor.cc:937] successful NUMA node read from SysFS had negative value (-1), but there must be at least one NUMA node, so returning NUMA node zero\n",
      "2021-11-04 21:00:57.959748: I tensorflow/stream_executor/cuda/cuda_gpu_executor.cc:937] successful NUMA node read from SysFS had negative value (-1), but there must be at least one NUMA node, so returning NUMA node zero\n",
      "2021-11-04 21:00:57.961523: I tensorflow/core/platform/cpu_feature_guard.cc:142] This TensorFlow binary is optimized with oneAPI Deep Neural Network Library (oneDNN) to use the following CPU instructions in performance-critical operations:  AVX2 AVX512F FMA\n",
      "To enable them in other operations, rebuild TensorFlow with the appropriate compiler flags.\n",
      "2021-11-04 21:00:57.962818: I tensorflow/stream_executor/cuda/cuda_gpu_executor.cc:937] successful NUMA node read from SysFS had negative value (-1), but there must be at least one NUMA node, so returning NUMA node zero\n",
      "2021-11-04 21:00:57.963495: I tensorflow/stream_executor/cuda/cuda_gpu_executor.cc:937] successful NUMA node read from SysFS had negative value (-1), but there must be at least one NUMA node, so returning NUMA node zero\n",
      "2021-11-04 21:00:57.964215: I tensorflow/stream_executor/cuda/cuda_gpu_executor.cc:937] successful NUMA node read from SysFS had negative value (-1), but there must be at least one NUMA node, so returning NUMA node zero\n",
      "2021-11-04 21:00:59.947819: I tensorflow/stream_executor/cuda/cuda_gpu_executor.cc:937] successful NUMA node read from SysFS had negative value (-1), but there must be at least one NUMA node, so returning NUMA node zero\n",
      "2021-11-04 21:00:59.948608: I tensorflow/stream_executor/cuda/cuda_gpu_executor.cc:937] successful NUMA node read from SysFS had negative value (-1), but there must be at least one NUMA node, so returning NUMA node zero\n",
      "2021-11-04 21:00:59.949293: I tensorflow/stream_executor/cuda/cuda_gpu_executor.cc:937] successful NUMA node read from SysFS had negative value (-1), but there must be at least one NUMA node, so returning NUMA node zero\n",
      "2021-11-04 21:00:59.949878: I tensorflow/core/common_runtime/gpu/gpu_device.cc:1510] Created device /job:localhost/replica:0/task:0/device:GPU:0 with 15403 MB memory:  -> device: 0, name: Tesla P100-PCIE-16GB, pci bus id: 0000:00:04.0, compute capability: 6.0\n"
     ]
    }
   ],
   "source": [
    "from tensorflow.keras.applications import EfficientNetB0, EfficientNetB5, EfficientNetB7\n",
    "\n",
    "input_picture = Input(shape=(IMG_WIDTH, IMG_HEIGHT, CHANNELS))\n",
    "input_dense = Input(shape=(len(DENSE_FEATURES)))\n",
    "\n",
    "model = EfficientNetB5(\n",
    "    weights='../input/effnetsb0-b7-notops/efficientnetb5_notop.h5', \n",
    "    include_top=False, \n",
    "    input_tensor=input_picture)\n",
    "model.trainable = False\n",
    "\n",
    "x = GlobalAveragePooling2D()(model.output)\n",
    "x = BatchNormalization()(x)\n",
    "x = Dropout(0.1)(x)\n",
    "\n",
    "concat_layer = Concatenate()([x, input_dense])\n",
    "output = Dense(64)(concat_layer)\n",
    "output = Dense(1)(output)\n",
    "model = Model(inputs=[input_picture, input_dense], outputs=output)"
   ]
  },
  {
   "cell_type": "code",
   "execution_count": 8,
   "id": "3c98b587",
   "metadata": {
    "execution": {
     "iopub.execute_input": "2021-11-04T21:01:07.425879Z",
     "iopub.status.busy": "2021-11-04T21:01:07.424986Z",
     "iopub.status.idle": "2021-11-04T21:01:07.445103Z",
     "shell.execute_reply": "2021-11-04T21:01:07.444647Z",
     "shell.execute_reply.started": "2021-10-20T20:24:52.997905Z"
    },
    "papermill": {
     "duration": 0.53331,
     "end_time": "2021-11-04T21:01:07.445231",
     "exception": false,
     "start_time": "2021-11-04T21:01:06.911921",
     "status": "completed"
    },
    "tags": []
   },
   "outputs": [],
   "source": [
    "opt = keras.optimizers.Adam(learning_rate=1e-2)\n",
    "model.compile(\n",
    "    optimizer=opt,\n",
    "    loss=keras.losses.MeanSquaredError(),\n",
    "    metrics=[keras.metrics.RootMeanSquaredError()]\n",
    ")"
   ]
  },
  {
   "cell_type": "code",
   "execution_count": 9,
   "id": "3b0ba94d",
   "metadata": {
    "execution": {
     "iopub.execute_input": "2021-11-04T21:01:08.101165Z",
     "iopub.status.busy": "2021-11-04T21:01:08.100377Z",
     "iopub.status.idle": "2021-11-04T21:18:12.639983Z",
     "shell.execute_reply": "2021-11-04T21:18:12.639325Z",
     "shell.execute_reply.started": "2021-10-20T20:24:54.608524Z"
    },
    "papermill": {
     "duration": 1024.872789,
     "end_time": "2021-11-04T21:18:12.640142",
     "exception": false,
     "start_time": "2021-11-04T21:01:07.767353",
     "status": "completed"
    },
    "tags": []
   },
   "outputs": [
    {
     "name": "stderr",
     "output_type": "stream",
     "text": [
      "2021-11-04 21:01:08.645533: I tensorflow/compiler/mlir/mlir_graph_optimization_pass.cc:185] None of the MLIR Optimization Passes are enabled (registered 2)\n"
     ]
    },
    {
     "name": "stdout",
     "output_type": "stream",
     "text": [
      "Epoch 1/15\n"
     ]
    },
    {
     "name": "stderr",
     "output_type": "stream",
     "text": [
      "2021-11-04 21:01:21.544698: I tensorflow/stream_executor/cuda/cuda_dnn.cc:369] Loaded cuDNN version 8005\n"
     ]
    },
    {
     "name": "stdout",
     "output_type": "stream",
     "text": [
      "264/264 - 222s - loss: 440.2276 - root_mean_squared_error: 20.9816 - val_loss: 341.4128 - val_root_mean_squared_error: 18.4774\n",
      "Epoch 2/15\n",
      "264/264 - 200s - loss: 354.8766 - root_mean_squared_error: 18.8382 - val_loss: 332.7867 - val_root_mean_squared_error: 18.2424\n",
      "Epoch 3/15\n",
      "264/264 - 198s - loss: 356.9582 - root_mean_squared_error: 18.8933 - val_loss: 374.5835 - val_root_mean_squared_error: 19.3542\n",
      "Epoch 4/15\n",
      "264/264 - 199s - loss: 343.1516 - root_mean_squared_error: 18.5244 - val_loss: 402.6001 - val_root_mean_squared_error: 20.0649\n",
      "Epoch 5/15\n",
      "264/264 - 197s - loss: 339.3805 - root_mean_squared_error: 18.4223 - val_loss: 342.1189 - val_root_mean_squared_error: 18.4965\n"
     ]
    },
    {
     "data": {
      "text/plain": [
       "<keras.callbacks.History at 0x7f0b940b0a10>"
      ]
     },
     "execution_count": 9,
     "metadata": {},
     "output_type": "execute_result"
    }
   ],
   "source": [
    "model.fit(\n",
    "    train,\n",
    "    validation_data=validation,\n",
    "    epochs=15,\n",
    "    verbose=2,\n",
    "    callbacks = [\n",
    "        EarlyStopping('val_loss', mode='auto', patience=PATIENCE, restore_best_weights=True)],\n",
    ")"
   ]
  },
  {
   "cell_type": "code",
   "execution_count": 10,
   "id": "8bca5f5d",
   "metadata": {
    "execution": {
     "iopub.execute_input": "2021-11-04T21:18:13.296772Z",
     "iopub.status.busy": "2021-11-04T21:18:13.295887Z",
     "iopub.status.idle": "2021-11-04T21:18:13.297689Z",
     "shell.execute_reply": "2021-11-04T21:18:13.298130Z",
     "shell.execute_reply.started": "2021-10-20T21:02:07.638568Z"
    },
    "papermill": {
     "duration": 0.332667,
     "end_time": "2021-11-04T21:18:13.298261",
     "exception": false,
     "start_time": "2021-11-04T21:18:12.965594",
     "status": "completed"
    },
    "tags": []
   },
   "outputs": [],
   "source": [
    "def unfreeze_model(model):\n",
    "    for layer in model.layers[-20:]:\n",
    "        if not isinstance(layer, BatchNormalization):\n",
    "            layer.trainable = True\n",
    "\n",
    "    opt = keras.optimizers.Adam(learning_rate=1e-4)\n",
    "    model.compile(\n",
    "        optimizer=opt,\n",
    "        loss=keras.losses.MeanSquaredError(),\n",
    "        metrics=[keras.metrics.RootMeanSquaredError()]\n",
    "    )"
   ]
  },
  {
   "cell_type": "code",
   "execution_count": 11,
   "id": "5a277b17",
   "metadata": {
    "execution": {
     "iopub.execute_input": "2021-11-04T21:18:13.952934Z",
     "iopub.status.busy": "2021-11-04T21:18:13.952019Z",
     "iopub.status.idle": "2021-11-04T21:35:08.856601Z",
     "shell.execute_reply": "2021-11-04T21:35:08.856156Z",
     "shell.execute_reply.started": "2021-10-20T21:02:28.820507Z"
    },
    "papermill": {
     "duration": 1015.235766,
     "end_time": "2021-11-04T21:35:08.856738",
     "exception": false,
     "start_time": "2021-11-04T21:18:13.620972",
     "status": "completed"
    },
    "tags": []
   },
   "outputs": [
    {
     "name": "stdout",
     "output_type": "stream",
     "text": [
      "Epoch 1/15\n",
      "264/264 - 214s - loss: 318.4719 - root_mean_squared_error: 17.8458 - val_loss: 322.5530 - val_root_mean_squared_error: 17.9598\n",
      "Epoch 2/15\n",
      "264/264 - 199s - loss: 295.3559 - root_mean_squared_error: 17.1859 - val_loss: 321.3173 - val_root_mean_squared_error: 17.9253\n",
      "Epoch 3/15\n",
      "264/264 - 200s - loss: 270.1840 - root_mean_squared_error: 16.4373 - val_loss: 328.1748 - val_root_mean_squared_error: 18.1156\n",
      "Epoch 4/15\n",
      "264/264 - 200s - loss: 251.0007 - root_mean_squared_error: 15.8430 - val_loss: 329.1305 - val_root_mean_squared_error: 18.1420\n",
      "Epoch 5/15\n",
      "264/264 - 199s - loss: 235.2272 - root_mean_squared_error: 15.3371 - val_loss: 326.7129 - val_root_mean_squared_error: 18.0752\n"
     ]
    },
    {
     "data": {
      "text/plain": [
       "<keras.callbacks.History at 0x7f0af17c2b90>"
      ]
     },
     "execution_count": 11,
     "metadata": {},
     "output_type": "execute_result"
    }
   ],
   "source": [
    "unfreeze_model(model)\n",
    "model.fit(\n",
    "    train,\n",
    "    validation_data=validation,\n",
    "    epochs=15,\n",
    "    verbose=2,\n",
    "    callbacks = [\n",
    "        EarlyStopping('val_loss', mode='auto', patience=PATIENCE, restore_best_weights=True)],\n",
    ")"
   ]
  },
  {
   "cell_type": "code",
   "execution_count": 12,
   "id": "24bcf473",
   "metadata": {
    "execution": {
     "iopub.execute_input": "2021-11-04T21:35:09.512781Z",
     "iopub.status.busy": "2021-11-04T21:35:09.511439Z",
     "iopub.status.idle": "2021-11-04T21:35:12.991454Z",
     "shell.execute_reply": "2021-11-04T21:35:12.990936Z"
    },
    "papermill": {
     "duration": 3.807982,
     "end_time": "2021-11-04T21:35:12.991586",
     "exception": false,
     "start_time": "2021-11-04T21:35:09.183604",
     "status": "completed"
    },
    "tags": []
   },
   "outputs": [],
   "source": [
    "predictions = model.predict(test)\n",
    "df_test[\"Pawpularity\"] = predictions\n",
    "df_test = df_test[[\"Id\", \"Pawpularity\"]]\n",
    "df_test.to_csv(\"submission.csv\", index=False)"
   ]
  }
 ],
 "metadata": {
  "kernelspec": {
   "display_name": "Python 3",
   "language": "python",
   "name": "python3"
  },
  "language_info": {
   "codemirror_mode": {
    "name": "ipython",
    "version": 3
   },
   "file_extension": ".py",
   "mimetype": "text/x-python",
   "name": "python",
   "nbconvert_exporter": "python",
   "pygments_lexer": "ipython3",
   "version": "3.7.10"
  },
  "papermill": {
   "default_parameters": {},
   "duration": 2214.25545,
   "end_time": "2021-11-04T21:35:16.505938",
   "environment_variables": {},
   "exception": null,
   "input_path": "__notebook__.ipynb",
   "output_path": "__notebook__.ipynb",
   "parameters": {},
   "start_time": "2021-11-04T20:58:22.250488",
   "version": "2.3.3"
  }
 },
 "nbformat": 4,
 "nbformat_minor": 5
}
